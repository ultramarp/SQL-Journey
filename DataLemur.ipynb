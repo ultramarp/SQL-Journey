{
 "cells": [
  {
   "cell_type": "markdown",
   "source": "### Easy",
   "metadata": {
    "is_collapsed": false,
    "cell_id": "3b5af070759f4e69b440d07d05af0cf4",
    "tags": [],
    "formattedRanges": [],
    "deepnote_cell_type": "text-cell-h3"
   }
  },
  {
   "cell_type": "code",
   "source": "1.'Data Science Skills'\n#Given a table of candidates and their skills, you're tasked with finding the candidates best suited for an open Data Science job. \n#You want to find candidates who are proficient in Python, Tableau, and PostgreSQL.\n#Write a SQL query to list the candidates who possess all of the required skills for the job. Sort the the output by candidate ID in ascending order.\n#Assumption:\n#There are no duplicates in the candidates table\"\n\nSELECT candidate_id\nFROM candidates\n  WHERE skill IN ('Python', 'Tableau','PostgreSQL')\nGROUP BY candidate_id\n    HAVING COUNT(skill) = 3\n\n",
   "metadata": {
    "cell_id": "e1913adbfbae4f3a80b015ef5bdaeef6",
    "tags": [],
    "deepnote_cell_type": "code",
    "deepnote_cell_height": 300
   },
   "execution_count": null,
   "outputs": []
  },
  {
   "cell_type": "code",
   "source": "2.'Unfinished Parts'\n#Tesla is investigating bottlenecks in their production, and they need your help to extract the relevant data. \n#Write a SQL query that determines which parts have begun the assembly process but are not yet finished.\n\nSELECT DISTINCT(part)  \nFROM parts_assembly \nWHERE finish_date IS NULL\n",
   "metadata": {
    "cell_id": "0a5a14e293934d72bc25e9ccffe213ca",
    "tags": [],
    "deepnote_cell_type": "code",
    "deepnote_cell_height": 192
   },
   "outputs": [],
   "execution_count": null
  },
  {
   "cell_type": "code",
   "source": "3.'Laptop vs Mobile Viewership'\n#This is the same question as problem #3 in the SQL Chapter of Ace the Data Science Interview!\n#Assume that you are given the table below containing information on viewership by device type (where the three types are laptop, tablet, and phone). \n#Define “mobile” as the sum of tablet and phone viewership numbers. \n#Write a query to compare the viewership on laptops versus mobile devices.\n#Output the total viewership for laptop and mobile devices in the format of \"laptop_views\" and \"mobile_views\".\n\nSELECT (SELECT count(user_id) FROM viewership WHERE device_type = 'laptop') as laptop_views,\n(SELECT count(user_id) FROM viewership WHERE device_type != 'laptop') as mobile_views",
   "metadata": {
    "cell_id": "3a3e2d016ea34c5a9a3b08e230d29d24",
    "tags": [],
    "deepnote_cell_type": "code",
    "deepnote_cell_height": 210
   },
   "outputs": [],
   "execution_count": null
  },
  {
   "cell_type": "code",
   "source": "4.'Page With No Likes'\n#Assume you are given the tables below about Facebook pages and page likes. \n#Write a query to return the page IDs of all the Facebook pages that don't have any likes. \n#The output should be in ascending order.\n\nSELECT p.page_id\nFROM pages as p   \n  LEFT JOIN page_likes as pl ON p.page_id=pl.page_id\n  WHERE pl.liked_date is NULL\n  ORDER BY p.page_id ASC;",
   "metadata": {
    "cell_id": "57d8c20e380c4b168c45056298759148",
    "tags": [],
    "deepnote_cell_type": "code",
    "deepnote_cell_height": 223
   },
   "outputs": [],
   "execution_count": null
  },
  {
   "cell_type": "code",
   "source": "5. 'Cities With Completed Trades'\n#You are given the tables below containing information on Robinhood trades and users. \n#Write a query to list the top three cities that have the most completed trade orders in descending order.\n#Output the city and number of orders.\n\nSELECT u.city, COUNT(t.order_id) AS conteo\nFROM users AS u    \n  JOIN trades as t ON u.user_id=t.user_id\nWHERE t.status = 'Completed'\nGROUP BY u.city\n  ORDER BY conteo DESC\n    LIMIT 3;\n    ",
   "metadata": {
    "cell_id": "65eeaa70714947c0ba5f6b546bffdc9a",
    "tags": [],
    "deepnote_cell_type": "code",
    "deepnote_cell_height": 282
   },
   "outputs": [],
   "execution_count": null
  },
  {
   "cell_type": "code",
   "source": "6.'App Clickthrough Rate (CTR)'\n\n#Assume you have an events table on app analytics. \n#Write a query to get the click-through rate percentage (CTR %) per app in 2022. Output the results in percentage rounded to 2 decimal places.\n#Note that to avoid integer division, you should multiple your percentage results by 100.0 and not 100\n\nSELECT app_id, \n\nROUND(100.0*SUM(CASE WHEN event_type = 'click' THEN 1 ELSE 0 END)\n  /\nSUM(CASE WHEN event_type = 'impression' THEN 1 ELSE 0 END),2)\n\nFROM events\nWHERE EXTRACT(YEAR FROM timestamp)=2022\n    GROUP BY app_id;",
   "metadata": {
    "cell_id": "f226895937bc49759baf3780635985c7",
    "tags": [],
    "deepnote_cell_type": "code",
    "deepnote_cell_height": 318
   },
   "outputs": [],
   "execution_count": null
  },
  {
   "cell_type": "markdown",
   "source": "<a style='text-decoration:none;line-height:16px;display:flex;color:#5B5B62;padding:10px;justify-content:end;' href='https://deepnote.com?utm_source=created-in-deepnote-cell&projectId=917e5fa0-6c7e-4265-adf7-383484fe76f8' target=\"_blank\">\n<img alt='Created in deepnote.com' style='display:inline;max-height:16px;margin:0px;margin-right:7.5px;' src='data:image/svg+xml;base64,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' > </img>\nCreated in <span style='font-weight:600;margin-left:4px;'>Deepnote</span></a>",
   "metadata": {
    "tags": [],
    "created_in_deepnote_cell": true,
    "deepnote_cell_type": "markdown"
   }
  }
 ],
 "nbformat": 4,
 "nbformat_minor": 2,
 "metadata": {
  "orig_nbformat": 2,
  "deepnote": {},
  "deepnote_notebook_id": "e83232ee-cf51-450e-a5a9-177b68eb3849",
  "deepnote_execution_queue": []
 }
}