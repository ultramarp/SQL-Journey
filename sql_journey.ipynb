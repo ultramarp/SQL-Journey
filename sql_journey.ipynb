{
 "cells": [
  {
   "cell_type": "markdown",
   "source": "## Easy",
   "metadata": {
    "is_collapsed": false,
    "cell_id": "92e4bca0e7314e37be8ec5dce7da1626",
    "tags": [],
    "formattedRanges": [],
    "deepnote_cell_type": "text-cell-h2"
   }
  },
  {
   "cell_type": "code",
   "source": "\n1. #Show first name, last name and gender of patients who's gender is 'M'\n\nSELECT first_name, last_name, gender\nFROM patients\n    WHERE gender = \"M\";\n\n2. #Show first name and last name of patients who does not have allergies (null).\n\nSELECT first_name, last_name\nFROM patients\n    WHERE allergies IS NULL;\n\n3. #Show first name of patients that start with the letter 'C'\n\nSELECT first_name\nFROM patients\n    WHERE first_name LIKE \"C%\";\n\n4. #Show first name and last name of patients that weight within the range of 100 to 120 (inclusive)\n\nSELECT first_name, last_name\nFROM patients\nWHERE weight BETWEEN 100 AND 120;\n\n5. #Update the patients table for the allergies column. If the patient's allergies is null then replace it with 'NKA'\n\nUPDATE patients\nSET allergies = \"NKA\"\nWHERE allergies IS NULL;\n\n6. #Show first name and last name concatinated into one column to show their full name.\n\nSELECT CONCAt(first_name,\" \", last_name)\nfrom patients;\n\n7. #Show first name, last name, and the full province name of each patient, example: 'Ontario' instead of 'ON'\n\nSELECT first_name, last_name, p.province_name\nFROM patients\n     JOIN provinces p ON patients.province_id = p.province_id;\n\n8. #Show how many patients have a birth_date with 2010 as the birth year.\n\nSELECT COUNT(patient_id)\nFROM patients\nWHERE year(birth_date) = 2010;\n\n9. #Show the first_name, last_name, and height of the patient with the greatest height.\n\nSELECT first_name, last_name, MAX(height)\nFROM patients\n    ORDER BY height\n    LIMIT 1;\n\n10. #Show all columns for patients who have one of the following patient_ids 1,45,534,879,1000\n\nSELECT * \nFROM patients\n    WHERE patient_id IN (1,45,534,879,1000);\n\n11. #Show the total number of admissions\n\nSELECT COUNT(admission_date) as total\nFROM admissions;\n\n12. #Show all the columns from admissions where the patient was admitted and discharged on the same day.\n\nSELECT *\nFROM admissions \n    WHERE admission_date = discharge_date;\n\n13. #Show the total number of admissions for patient_id 573.\n\nSELECT patient_id, COUNT(admission_date)\nFROM admissions \n    WHERE patient_id = 573;\n\n14. #Based on the cities that our patients live in, show unique cities that are in province_id 'NS'?\n\nSELECT distinct(city)\nFROm patients\n    WHERE province_id = \"NS\";\n\n15. #Write a query to find the first_name, last name and birth date of patients who have height more than 160 and weight more than 70\n\nSELECT first_name,last_name,birth_date \nFROM patients\n    WHERE height > 160 AND weight > 70;\n\n16. #Write a query to find list of patients first_name, last_name, and allergies from Hamilton where allergies are not nka or null\n\nSELECT first_name, last_name, allergies\nFROM patients\n    WHERE city = 'Hamilton' \n    AND allergies  NOT NULL \n    AND allergies NOT like 'NKA'\n\n\n",
   "metadata": {
    "cell_id": "9fa7b6bad488495cb985fe4db07ad3e2",
    "tags": [],
    "deepnote_cell_type": "code",
    "deepnote_cell_height": 1848
   },
   "outputs": [],
   "execution_count": null
  },
  {
   "cell_type": "markdown",
   "source": "## Medium",
   "metadata": {
    "is_collapsed": false,
    "cell_id": "a5dd3ab81f8c4d8aadf6e97e78ebec0b",
    "tags": [],
    "formattedRanges": [],
    "deepnote_cell_type": "text-cell-h2"
   }
  },
  {
   "cell_type": "code",
   "source": "1. #Show unique birth years from patients and order them by ascending.\n\nSELECT \n  DISTINCT(YEAR(birth_date)) AS anio \nFROM \n  patients \nORDER BY \n  anio ASC;\n\n2.  #Show unique first names from the patients table which only occurs once in the list, \n    #For example, if two or more people are named 'John' in the first_name column then don't include their name in the output list. \n    #If only 1 person is named 'Leo' then include them in the output.\n\nSELECT \n  DISTINCT(first_name) as Nombre \nFROM patients \nGROUP BY Nombre \nhaving COUNT(first_name) = 1;\n\n3. #Show patient_id and first_name from patients where their first_name start and ends with 's' and is at least 6 characters long.\n\nSELECT patient_id, first_name\nFROM patients\nWHERE first_name LIKE \"s____%s\";\n\n\n4. #Show patient_id, first_name, last_name from patients whos primary_diagnosis is 'Dementia',\n   #Primary diagnosis is stored in the admissions table.\n\nSELECT p.patient_id, p.first_name, p.last_name \nFROM patients AS p\n     JOIN admissions AS ad ON p.patient_id = ad.patient_id\n     WHERE ad.primary_diagnosis = \"Dementia\";\n\n5. #Display every patient's first_name. order the list by the length of each name and then by alphbetically.\n\nSELECT first_name\nFROM patients\n    ORDER BY LEN(first_name) ASC, first_name ASC;\n\n6. #Show the total amount of male patients and the total amount of female patients in the patients table,\n   #Display the two results in the same row.\n\nSELECT COUNT(*) as conteo, \n       (SELECT COUNT(*) FROM patients WHERE gender = \"F\") as female \nFROM patients \n        WHERE gender = \"M\";\n\n7. #Show first and last name, allergies from patients which have allergies to either 'Penicillin' or 'Morphine'. \n   #Show results ordered ascending by allergies then by first_name then by last_name.\n\nSELECT first_name, last_name, allergies \nFROM patients\n    WHERE allergies IN (\"Penicillin\",\"Morphine\")\n        ORDER BY allergies, first_name,last_name;\n\n8. #Show patient_id, primary_diagnosis from admissions. Find patients admitted multiple times for the same primary_diagnosis.\n\nSELECT\n  patient_id,\n  primary_diagnosis\nFROM admissions\n    GROUP BY patient_id, primary_diagnosis\n        HAVING COUNT(*) > 1;\n\n9. #Show the city and the total number of patients in the city in the order from most to least patients.\n\nSELECT\n  city,\n  COUNT(patient_id) as pacientes\nFROM patients\n    GROUP BY city\n        ORDER BY pacientes DESC;\n\n10. #Show first name, last name and role of every person that is either patient or physician.\n    #The roles are either \"Patient\" or \"Physician\"\n\nSELECT first_name, last_name, \"Patient\" AS \"Role\" from Patients\nUNION\nSELECT first_name, last_name, \"Physician\" AS \"Role\" from physicians\n    ORDER BY first_name;\n\n11. #Show all allergies ordered by popularity. Remove 'NKA' and NULL values from query.\n\nSELECT allergies, \ncount(allergies) as popularity\nFROM patients\n    WHERE allergies NOT NULL AND allergies NOT IN ('NKA')\n        GROUP by allergies\n            ORDER BY popularity DESC\n\n12. #Show all patient's first_name, last_name, and birth_date who were born in the 1970s decade. \n    #Sort the list starting from the earliest birth_date.\n\nSELECT first_name, last_name, birth_date\nFROM patients\n    WHERE year(birth_date) between 1970 AND 1979\n        ORDER BY birth_date;\n\n13. #We want to display each patient's full name in a single column. \n    #Their last_name in all upper letters must appear first, then first_name in all lower case letters. \n    #Separate the last_name and first_name with a comma. Order the list by the first_name in decending order\n    #EX: SMITH,jane\n\nselect CONCAT(UPPER(last_name),\n\",\",\nLOWER(first_name))\nFROM patients\n    ORDER BY first_name DESC\n\n14. #Show the province_id(s), sum of height; where the total sum of its patient's height is greater than or equal to 7,000.\n\nSELECT province_id, CEIl(sum(height)) as altura\nFROM patients\n    GROUP BY province_id\n        HAVING altura >= 7000\n\n15. #Show the difference between the largest weight and smallest weight for patients with the last name 'Maroni'\n\nSELECT MAX(weight)- MIn(weight) as range\nFROM patients\n    WHERE last_name = \"Maroni\"\n\n16. #Show all of the days of the month (1-31) and how many admission_dates occurred on that day. \n    #Sort by the day with most admissions to least admissions.\n\nSELECT day(admission_date) as dia, count(admission_date) as cuantas\nFROM admissions\n    GROUP BY dia\n        ORDER BY cuantas desc;\n\n17. #Show the patient_id, nursing_unit_id, room, and bed for patient_id 542's most recent admission_date.\n\nSELECT patient_id, nursing_unit_id,room, bed\nFROM admissions\n    WHERE patient_id = \"542\"\n        ORDER by admission_date desc\n            LIMIT 1;\n\n18. #Show the nursing_unit_id and count of admissions for each nursing_unit_id. \n    #Exclude the following nursing_unit_ids: 'CCU', 'OR', 'ICU', 'ER'.\n\nSELECT nursing_unit_id, count(admission_date) as conteo\nFROM admissions\n    WHERE not nursing_unit_id in (\"CCU\",\"OR\",\"ICU\",\"ER\")\n        GROUP BY nursing_unit_id;\n\n19. \n    #Show patient_id, attending_physician_id, and primary_diagnosis for admissions that match one of the two criteria:\n    #1. patient_id is an odd number and attending_physician_id is either 1, 5, or 19.\n    #2. attending_physician_id contains a 2 and the length of patient_id is 3 characters.\n\nSELECT patient_id, attending_physician_id, primary_diagnosis\nFROM admissions\n    WHERE (patient_id % 2 != 0 \n    AND attending_physician_id IN (1,5,19))\n    OR \n    attending_physician_id like '%2%' \n    AND len(patient_id) = 3;\n\n20. #Show first_name, last_name, and the total number of admissions attended for each physician.\n    #Every admission has been attended by a physician.\n\nSELECT first_name,\nlast_name,\nCOUNT(a.primary_diagnosis) AS total_admissions\nfrom physicians as p\n  JOIN admissions as a ON p.physician_id = a.attending_physician_id\n  GROUP BY first_name, last_name\n\n21. #For each physicain, display their id, full name, and the first and last admission date they attended.\n\nSELECT physician_id, \nconcat(first_name,\" \",last_name),\nMIN(admission_date),\nmax(admission_date)\nFROM physicians AS p\n\tjoin admissions as a on p.physician_id = a.attending_physician_id\n\tGROUP BY p.physician_id;\n\n22. #Display the total amount of patients for each province. Order by descending.\n\nSELECT pr.province_name,\n\t   COUNT(p.patient_id) as total_patients\nFROM patients AS p\n\tJOIN provinces AS pr ON p.province_id = pr.province_id\n        GROUP BY pr.province_name\n            ORDER BY total_patients DESC\n",
   "metadata": {
    "cell_id": "119d119cdf35464894bf36f8cc050873",
    "tags": [],
    "deepnote_cell_type": "code",
    "deepnote_cell_height": 3450
   },
   "outputs": [],
   "execution_count": null
  },
  {
   "cell_type": "markdown",
   "source": "## Hard",
   "metadata": {
    "is_collapsed": false,
    "cell_id": "8f49ab4045984eada7a6f203bd2d4216",
    "tags": [],
    "formattedRanges": [],
    "deepnote_cell_type": "text-cell-h2"
   }
  },
  {
   "cell_type": "code",
   "source": "1. #Show the patient_id and total_spent for patients who spent over 150 in medication_cost. Sort by most total_spent to least total_spent.\n\nSELECT\n  patient_id,SUM(medication_cost) as suma\nFROM medications m \n    JOIN unit_dose_orders un ON m.medication_id=un.medication_id\n    GROUP BY patient_id\n        HAVING suma > 150\n            ORDER BY suma DESC\n\n2. #Show patient_id, weight, height, isObese from the patients table.\n   #Display isObese as a boolean 0 or 1.\n   #Obese is defined as weight(kg)/(height(m)2) >= 30.\n   #weight is in units kg.\n   #height is in units cm.\n\nSELECT patient_id, weight, height, \n  (CASE \n      WHEN weight/(POWER(height/100.0,2)) >= 30 THEN\n          1\n      ELSE\n          0\n      END) AS isObese\nFROM patients;\n\n3. #Show patient_id, first_name, last_name, and attending physician's specialty.\n   #Show only the patients who has a primary_diagnosis as 'Dementia' and the physician's first name is 'Lisa'\n   #Check patients, admissions, and physicians tables for required information.\n\nSELECT p.patient_id, p.first_name, p.last_name, ph.specialty\nFROM patients p\n\tJOIN admissions ad ON ad.patient_id = p.patient_id\n    JOIN physicians ph ON ph.physician_id = ad.attending_physician_id \n        WHERE ad.primary_diagnosis = 'Dementia' and ph.first_name = 'Lisa';\n\n4.#All patients who have gone through admissions, can see their medical documents on our site. \n  #Those patients are given a temporary password after their first admission. Show the patient_id and temp_password.\n  #The password must be the following, in order:\n  #1. patient_id\n  #2. the numerical length of patient's last_name\n  #3. year of patient's birth_date\n\nSELECT\n  p.patient_id,\n  (\n    SELECT\n    concat(p.patient_id,len(p.last_name),year(p.birth_date)) FROm patients \n  ) as temp_Password\n    FROM patients p\n    JOIN admissions ad ON ad.patient_id = p.patient_id\n    group by ad.patient_id\n    having count(ad.admission_date) >= 1;\n\n5. #Each admission costs $50 for patients without insurance, and $10 for patients with insurance. \n   #All patients with an even patient_id have insurance.\n   #Give each patient a 'Yes' if they have insurance, and a 'No' if they don't have insurance. \n   #Add up the admission_total cost for each has_insurance group.\n\nSELECT \nCASE\n\tWHEN patient_id % 2 != 0 THEn 'No' ELSE 'Yes'\nEND has_insurance,\nCase \n\tWHEN patient_id % 2 !=0 THEN COUNT(admission_date)*50 ELSE COUNT(admission_date)*10\nEND cost_after_insurance\nFROM admissions\n    GROUP BY has_insurance\n\n6. #Show the provinces that has more patients identified as 'M' than 'F'. Must only show full province_name\n\nSELECT pr.province_name\nFROM provinces pr\n  JOIN patients p ON pr.province_id = p.province_id\n    GROUP BY pr.province_id\n        HAVING COUNT(CASE WHEN gender='M' THEN 1 END) > COUNT((CASE WHEN gender = 'F' THEN 1 END))\n\n7. #We are looking for a specific patient. Pull all columns for the patient who matches the following criteria:\n   #- First_name contains an 'r' after the first two letters.\n   #- Identifies their gender as 'F'\n   #- Born in February, May, or December\n   #- Their weight would be between 60kg and 80kg\n   #- Their patient_id is an odd number\n   #- They are from the city 'Halifax'\n\nSELECT *\nFROm patients\n    WHERE first_name LIKE '__r%' \n    AND gender = 'F'\n    AND month(birth_date) IN (2,5,12)\n    AND weight between 60 and 80\n    AND patient_id % 2 != 0 \n    AND city = 'Halifax'\n\n8. #Show the percent of patients that have 'M' as their gender. Round the answer to the nearest hundreth number and in percent form.\n\nSELECT CONCAT(ROUND((SELECT COUNT(patient_id) \nFROM patients \n    WHERE gender = 'M') * 100.00 / (SELECT COUNT(patient_id) FROM patients),2),'%')\n\n9. #Show the patient_id and total_spent for patients who spent over 150 in medication_cost. Sort by most total_spent to least total_spent.\n\nSELECT\n  patient_id,SUM(medication_cost) as suma\nFROm medications m \n    JOIN unit_dose_orders un ON m.medication_id=un.medication_id\n        GROUP BY patient_id\n            HAVING suma > 150\n                order by suma DESC\n\n10. #Provide the description of each item, along with the total cost of the quantity on hand \n    #(rounded to the nearest whole dollar), and the associated primary vendor.\n\n\nSELECT i.item_description, ROUND(i.quantity_on_hand*i.item_cost) as total, v.vendor_name\nFROM items i \n\tJOIN vendors v ON i.primary_vendor_id = v.vendor_id\n        GROUP BY i.item_description\n            ORDER BY total DESC\n\n12.#For each province, display the total amount patients spent on medication. Order by the most to least spent.\n\nSELECT pr.province_name,\n\t   ROUND(SUM(me.medication_cost),0) as total_spent\nFROM provinces AS pr \n\tJOIN patients as p ON pr.province_id = p.province_id\n    JOIN unit_dose_orders as un ON p.patient_id = un.patient_id\n    JOIN medications as me on un.medication_id = me.medication_id\n\t\n    GROUP BY pr.province_name\n    ORDER BY total_spent DESC \n\n",
   "metadata": {
    "cell_id": "3906e4f8989147978e4f7b772aba062e",
    "tags": [],
    "deepnote_to_be_reexecuted": false,
    "source_hash": "4cd1705e",
    "execution_start": 1662411031596,
    "execution_millis": 43,
    "deepnote_cell_type": "code",
    "deepnote_cell_height": 2502.1875
   },
   "outputs": [
    {
     "output_type": "error",
     "ename": "IndentationError",
     "evalue": "unindent does not match any outer indentation level (<tokenize>, line 33)",
     "traceback": [
      "\u001b[0;36m  File \u001b[0;32m<tokenize>:33\u001b[0;36m\u001b[0m\n\u001b[0;31m    JOIN physicians ph ON ph.physician_id = ad.attending_physician_id\u001b[0m\n\u001b[0m    ^\u001b[0m\n\u001b[0;31mIndentationError\u001b[0m\u001b[0;31m:\u001b[0m unindent does not match any outer indentation level\n"
     ]
    }
   ],
   "execution_count": 2
  },
  {
   "cell_type": "code",
   "source": "",
   "metadata": {
    "cell_id": "af0834f736214848b47179c6098fd9ee",
    "tags": [],
    "deepnote_cell_type": "code",
    "deepnote_cell_height": 61
   },
   "outputs": [],
   "execution_count": null
  },
  {
   "cell_type": "markdown",
   "source": "<a style='text-decoration:none;line-height:16px;display:flex;color:#5B5B62;padding:10px;justify-content:end;' href='https://deepnote.com?utm_source=created-in-deepnote-cell&projectId=f456fa1a-3eb6-4631-a26e-0e470af54976' target=\"_blank\">\n<img alt='Created in deepnote.com' style='display:inline;max-height:16px;margin:0px;margin-right:7.5px;' src='data:image/svg+xml;base64,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' > </img>\nCreated in <span style='font-weight:600;margin-left:4px;'>Deepnote</span></a>",
   "metadata": {
    "tags": [],
    "created_in_deepnote_cell": true,
    "deepnote_cell_type": "markdown"
   }
  }
 ],
 "nbformat": 4,
 "nbformat_minor": 2,
 "metadata": {
  "orig_nbformat": 2,
  "deepnote": {},
  "deepnote_notebook_id": "c2459473-b7df-4c84-af28-88f8b8cca9b3",
  "deepnote_execution_queue": []
 }
}